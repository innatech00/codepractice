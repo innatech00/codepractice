{
 "cells": [
  {
   "cell_type": "code",
   "execution_count": 156,
   "id": "80dbf05f",
   "metadata": {},
   "outputs": [],
   "source": [
    "from math import factorial"
   ]
  },
  {
   "cell_type": "code",
   "execution_count": 157,
   "id": "357b5bac",
   "metadata": {},
   "outputs": [
    {
     "data": {
      "text/plain": [
       "6"
      ]
     },
     "execution_count": 157,
     "metadata": {},
     "output_type": "execute_result"
    }
   ],
   "source": [
    "factorial(3)"
   ]
  },
  {
   "cell_type": "code",
   "execution_count": 158,
   "id": "54496f82",
   "metadata": {},
   "outputs": [
    {
     "name": "stdout",
     "output_type": "stream",
     "text": [
      "Couldn't find program: 'bash'\n"
     ]
    }
   ],
   "source": [
    "%%bash\n",
    "cd test_directory"
   ]
  },
  {
   "cell_type": "code",
   "execution_count": 159,
   "id": "9729ea64",
   "metadata": {},
   "outputs": [
    {
     "name": "stdout",
     "output_type": "stream",
     "text": [
      "Microsoft Windows [Version 10.0.19042.1165]\r\n",
      "(c) Љ®аЇ®а жЁп Њ ©Єа®б®дв (Microsoft Corporation). ‚бҐ Їа ў  § йЁйҐ­л.\r\n",
      "\r\n",
      "C:\\Users\\€­­ \\Documents\\гзҐЎ \\ds\\mfti>cd\n",
      "C:\\Users\\€­­ \\Documents\\гзҐЎ \\ds\\mfti\r\n",
      "\r\n",
      "C:\\Users\\€­­ \\Documents\\гзҐЎ \\ds\\mfti>"
     ]
    }
   ],
   "source": [
    "%%cmd\n",
    "cd\n"
   ]
  },
  {
   "cell_type": "code",
   "execution_count": 160,
   "id": "a56b46a5",
   "metadata": {},
   "outputs": [
    {
     "name": "stderr",
     "output_type": "stream",
     "text": [
      "UsageError: Cell magic `%%lsmagic` not found (But line magic `%lsmagic` exists, did you mean that instead?).\n"
     ]
    }
   ],
   "source": [
    "%%lsmagic\n"
   ]
  },
  {
   "cell_type": "code",
   "execution_count": null,
   "id": "105184aa",
   "metadata": {},
   "outputs": [],
   "source": [
    "%pylab inline"
   ]
  },
  {
   "cell_type": "code",
   "execution_count": null,
   "id": "3e9cfb02",
   "metadata": {},
   "outputs": [],
   "source": [
    "import numpy\n",
    "import matplotlib"
   ]
  },
  {
   "cell_type": "code",
   "execution_count": null,
   "id": "14cde58b",
   "metadata": {},
   "outputs": [],
   "source": [
    "y = range(11)"
   ]
  },
  {
   "cell_type": "code",
   "execution_count": null,
   "id": "a1c00820",
   "metadata": {},
   "outputs": [],
   "source": [
    "y"
   ]
  },
  {
   "cell_type": "code",
   "execution_count": null,
   "id": "282c6fa9",
   "metadata": {},
   "outputs": [],
   "source": [
    "plot(y)"
   ]
  },
  {
   "cell_type": "code",
   "execution_count": null,
   "id": "19cd9904",
   "metadata": {},
   "outputs": [],
   "source": [
    "(190**4 - 120/0.3)*1780\n"
   ]
  },
  {
   "cell_type": "code",
   "execution_count": null,
   "id": "fa43e77e",
   "metadata": {},
   "outputs": [],
   "source": [
    "x = 5\n"
   ]
  },
  {
   "cell_type": "code",
   "execution_count": null,
   "id": "79805f3a",
   "metadata": {},
   "outputs": [],
   "source": [
    "print type (x)\n"
   ]
  },
  {
   "cell_type": "code",
   "execution_count": null,
   "id": "d24d9d81",
   "metadata": {},
   "outputs": [],
   "source": [
    "type(x)"
   ]
  },
  {
   "cell_type": "code",
   "execution_count": null,
   "id": "750d3e8d",
   "metadata": {},
   "outputs": [],
   "source": [
    "a = True\n",
    "b = False"
   ]
  },
  {
   "cell_type": "code",
   "execution_count": null,
   "id": "09f1cf42",
   "metadata": {},
   "outputs": [],
   "source": [
    "type(a)"
   ]
  },
  {
   "cell_type": "code",
   "execution_count": null,
   "id": "8fab9509",
   "metadata": {},
   "outputs": [],
   "source": [
    "type(b)"
   ]
  },
  {
   "cell_type": "code",
   "execution_count": null,
   "id": "b38cf628",
   "metadata": {},
   "outputs": [],
   "source": [
    "a+b"
   ]
  },
  {
   "cell_type": "code",
   "execution_count": null,
   "id": "160d4268",
   "metadata": {},
   "outputs": [],
   "source": [
    "a+a"
   ]
  },
  {
   "cell_type": "code",
   "execution_count": null,
   "id": "f42a9b37",
   "metadata": {},
   "outputs": [],
   "source": [
    "int(a)"
   ]
  },
  {
   "cell_type": "code",
   "execution_count": null,
   "id": "3a09897f",
   "metadata": {},
   "outputs": [],
   "source": [
    "a\n"
   ]
  },
  {
   "cell_type": "code",
   "execution_count": null,
   "id": "51bc89eb",
   "metadata": {},
   "outputs": [],
   "source": [
    "b+b"
   ]
  },
  {
   "cell_type": "code",
   "execution_count": null,
   "id": "1afb7411",
   "metadata": {},
   "outputs": [],
   "source": [
    "int(b)"
   ]
  },
  {
   "cell_type": "code",
   "execution_count": null,
   "id": "96126245",
   "metadata": {},
   "outputs": [],
   "source": [
    "a = \"abc\""
   ]
  },
  {
   "cell_type": "code",
   "execution_count": null,
   "id": "fcf86d0a",
   "metadata": {},
   "outputs": [],
   "source": [
    "a[0]"
   ]
  },
  {
   "cell_type": "code",
   "execution_count": null,
   "id": "bbe7e97b",
   "metadata": {},
   "outputs": [],
   "source": [
    "a[2]"
   ]
  },
  {
   "cell_type": "code",
   "execution_count": null,
   "id": "f3b43dd3",
   "metadata": {},
   "outputs": [],
   "source": [
    "a.upper"
   ]
  },
  {
   "cell_type": "code",
   "execution_count": null,
   "id": "c8a3b265",
   "metadata": {},
   "outputs": [],
   "source": [
    "str.upper(a)"
   ]
  },
  {
   "cell_type": "code",
   "execution_count": null,
   "id": "836dd4a7",
   "metadata": {},
   "outputs": [],
   "source": [
    "str.lower(a)"
   ]
  },
  {
   "cell_type": "code",
   "execution_count": null,
   "id": "0b4e4d4d",
   "metadata": {},
   "outputs": [],
   "source": [
    "a[0:1]"
   ]
  },
  {
   "cell_type": "code",
   "execution_count": null,
   "id": "8a9534c9",
   "metadata": {},
   "outputs": [],
   "source": [
    "a[0:3]"
   ]
  },
  {
   "cell_type": "code",
   "execution_count": null,
   "id": "5f4789c0",
   "metadata": {},
   "outputs": [],
   "source": [
    "a[::]"
   ]
  },
  {
   "cell_type": "code",
   "execution_count": null,
   "id": "e70fd753",
   "metadata": {},
   "outputs": [],
   "source": [
    "a[0:4:2]"
   ]
  },
  {
   "cell_type": "code",
   "execution_count": null,
   "id": "73c55110",
   "metadata": {},
   "outputs": [],
   "source": [
    "x = u'Эльвира'"
   ]
  },
  {
   "cell_type": "code",
   "execution_count": null,
   "id": "18ca6fb2",
   "metadata": {},
   "outputs": [],
   "source": [
    "type(x)"
   ]
  },
  {
   "cell_type": "code",
   "execution_count": null,
   "id": "126046b1",
   "metadata": {},
   "outputs": [],
   "source": [
    "x\n"
   ]
  },
  {
   "cell_type": "code",
   "execution_count": null,
   "id": "21ddc17f",
   "metadata": {},
   "outputs": [],
   "source": [
    "type(x)"
   ]
  },
  {
   "cell_type": "code",
   "execution_count": null,
   "id": "89ed72fa",
   "metadata": {},
   "outputs": [],
   "source": [
    "code(x)"
   ]
  },
  {
   "cell_type": "code",
   "execution_count": null,
   "id": "004c48e6",
   "metadata": {},
   "outputs": [],
   "source": [
    "x[1:]"
   ]
  },
  {
   "cell_type": "code",
   "execution_count": null,
   "id": "e73a6882",
   "metadata": {},
   "outputs": [],
   "source": [
    "len(x)"
   ]
  },
  {
   "cell_type": "code",
   "execution_count": null,
   "id": "51adb770",
   "metadata": {},
   "outputs": [],
   "source": [
    "x.encode('utf-8')"
   ]
  },
  {
   "cell_type": "code",
   "execution_count": null,
   "id": "e048cd81",
   "metadata": {},
   "outputs": [],
   "source": [
    "x.encode('utf-8')"
   ]
  },
  {
   "cell_type": "code",
   "execution_count": null,
   "id": "b696eac5",
   "metadata": {},
   "outputs": [],
   "source": [
    "type(x)"
   ]
  },
  {
   "cell_type": "code",
   "execution_count": null,
   "id": "08772b8e",
   "metadata": {},
   "outputs": [],
   "source": [
    "x\n"
   ]
  },
  {
   "cell_type": "code",
   "execution_count": null,
   "id": "94d2d732",
   "metadata": {},
   "outputs": [],
   "source": [
    "len(x)"
   ]
  },
  {
   "cell_type": "code",
   "execution_count": null,
   "id": "1a8238b4",
   "metadata": {},
   "outputs": [],
   "source": [
    "x.decode('cp1251')"
   ]
  },
  {
   "cell_type": "code",
   "execution_count": null,
   "id": "bb44ccdc",
   "metadata": {},
   "outputs": [],
   "source": [
    "x = u'Элеонора Михайловна'\n",
    "print(x, type(x))\n",
    "y = x.encode('utf-8')\n",
    "print(y, type(y))\n",
    "z = y.decode('utf-8')\n",
    "print(z, type(z))\n",
    "q = y.decode('cp1251')\n",
    "print(q, type(q))"
   ]
  },
  {
   "cell_type": "code",
   "execution_count": null,
   "id": "4724f17a",
   "metadata": {},
   "outputs": [],
   "source": [
    "print(y[1:])\n",
    "print(len(y), type(y))\n",
    "print(len(x), type(x))"
   ]
  },
  {
   "cell_type": "code",
   "execution_count": null,
   "id": "89d615ae",
   "metadata": {},
   "outputs": [],
   "source": []
  },
  {
   "cell_type": "code",
   "execution_count": null,
   "id": "5108cbbf",
   "metadata": {},
   "outputs": [],
   "source": []
  },
  {
   "cell_type": "code",
   "execution_count": null,
   "id": "0a813415",
   "metadata": {},
   "outputs": [],
   "source": []
  },
  {
   "cell_type": "code",
   "execution_count": null,
   "id": "2654cfb1",
   "metadata": {},
   "outputs": [],
   "source": [
    "splitted_line = \"Inna Cher\".split(' ')\n",
    "print(splitted_line)"
   ]
  },
  {
   "cell_type": "code",
   "execution_count": null,
   "id": "4c8e9510",
   "metadata": {},
   "outputs": [],
   "source": [
    "type(splitted_line)"
   ]
  },
  {
   "cell_type": "code",
   "execution_count": null,
   "id": "7483fe8f",
   "metadata": {},
   "outputs": [],
   "source": [
    "print \"Inna Cher\".split(' ')"
   ]
  },
  {
   "cell_type": "code",
   "execution_count": 161,
   "id": "a93d9427",
   "metadata": {},
   "outputs": [],
   "source": [
    "saled_goods_count = [22450, 340002, 33900, 55000]"
   ]
  },
  {
   "cell_type": "code",
   "execution_count": 162,
   "id": "5a4c377b",
   "metadata": {},
   "outputs": [
    {
     "name": "stdout",
     "output_type": "stream",
     "text": [
      "[22450, 340002, 33900, 55000]\n"
     ]
    }
   ],
   "source": [
    "print(saled_goods_count)"
   ]
  },
  {
   "cell_type": "code",
   "execution_count": 163,
   "id": "d8cf64c2",
   "metadata": {},
   "outputs": [
    {
     "data": {
      "text/plain": [
       "list"
      ]
     },
     "execution_count": 163,
     "metadata": {},
     "output_type": "execute_result"
    }
   ],
   "source": [
    "type(saled_goods_count)"
   ]
  },
  {
   "cell_type": "code",
   "execution_count": 164,
   "id": "7ab286b1",
   "metadata": {},
   "outputs": [
    {
     "name": "stdout",
     "output_type": "stream",
     "text": [
      "['Высокий', 'Средний', 'Низкий']\n",
      "['Эльвира', 'Иван Петрович', 'МИша']\n"
     ]
    }
   ],
   "source": [
    "income = ['Высокий', 'Средний', 'Низкий']\n",
    "names = ['Эльвира', 'Иван Петрович', 'МИша']\n",
    "print(income)\n",
    "print(names)"
   ]
  },
  {
   "cell_type": "code",
   "execution_count": 165,
   "id": "b2d9c4be",
   "metadata": {},
   "outputs": [
    {
     "name": "stdout",
     "output_type": "stream",
     "text": [
      "Высокий---Средний---Низкий\n"
     ]
    }
   ],
   "source": [
    "#неверно print(income).join(\"______\")\n",
    "#верно\n",
    "print (\"---\".join(income))"
   ]
  },
  {
   "cell_type": "code",
   "execution_count": 166,
   "id": "78335ea4",
   "metadata": {},
   "outputs": [
    {
     "ename": "NameError",
     "evalue": "name 'replace' is not defined",
     "output_type": "error",
     "traceback": [
      "\u001b[1;31m---------------------------------------------------------------------------\u001b[0m",
      "\u001b[1;31mNameError\u001b[0m                                 Traceback (most recent call last)",
      "\u001b[1;32m<ipython-input-166-ab3e71818d07>\u001b[0m in \u001b[0;36m<module>\u001b[1;34m\u001b[0m\n\u001b[1;32m----> 1\u001b[1;33m \u001b[0mreplace\u001b[0m\u001b[1;33m(\u001b[0m\u001b[1;34m'Hello,world!'\u001b[0m\u001b[1;33m,\u001b[0m \u001b[1;34m' '\u001b[0m\u001b[1;33m,\u001b[0m \u001b[1;34m'-'\u001b[0m\u001b[1;33m)\u001b[0m\u001b[1;33m\u001b[0m\u001b[1;33m\u001b[0m\u001b[0m\n\u001b[0m",
      "\u001b[1;31mNameError\u001b[0m: name 'replace' is not defined"
     ]
    }
   ],
   "source": [
    "replace('Hello,world!', ' ', '-')"
   ]
  },
  {
   "cell_type": "code",
   "execution_count": 237,
   "id": "e2e7b729",
   "metadata": {},
   "outputs": [
    {
     "data": {
      "text/plain": [
       "'Hello,_world!'"
      ]
     },
     "execution_count": 237,
     "metadata": {},
     "output_type": "execute_result"
    }
   ],
   "source": [
    "#замена символа Метод split сначала разобьет строку на 2, а потом join склеит их с помощью нижнего подчеркивания.\n",
    "'_'.join(('Hello, world!'.split(' ')))"
   ]
  },
  {
   "cell_type": "markdown",
   "id": "5339c001",
   "metadata": {},
   "source": [
    "# Массивы\n"
   ]
  },
  {
   "cell_type": "code",
   "execution_count": null,
   "id": "52e2e186",
   "metadata": {},
   "outputs": [],
   "source": [
    "saled_goods_count = [33345, 34010, 33990, 33200]\n",
    "print(saled_goods_count)\n",
    "type(saled_goods_count)"
   ]
  },
  {
   "cell_type": "code",
   "execution_count": null,
   "id": "459d0366",
   "metadata": {},
   "outputs": [],
   "source": [
    "income = ['Tall', 'Medium', 'High']\n",
    "names = ['Eleonora', 'Ivan', 'Michail']\n"
   ]
  },
  {
   "cell_type": "code",
   "execution_count": 235,
   "id": "0f20b236",
   "metadata": {},
   "outputs": [
    {
     "name": "stdout",
     "output_type": "stream",
     "text": [
      "['Высокий', 'Средний', 'Низкий']\n"
     ]
    }
   ],
   "source": [
    "print(income)"
   ]
  },
  {
   "cell_type": "code",
   "execution_count": 236,
   "id": "fbf5bbb0",
   "metadata": {},
   "outputs": [
    {
     "ename": "SyntaxError",
     "evalue": "invalid syntax (<ipython-input-236-58ee9d1de05f>, line 1)",
     "output_type": "error",
     "traceback": [
      "\u001b[1;36m  File \u001b[1;32m\"<ipython-input-236-58ee9d1de05f>\"\u001b[1;36m, line \u001b[1;32m1\u001b[0m\n\u001b[1;33m    print \"___\".join(income)\u001b[0m\n\u001b[1;37m          ^\u001b[0m\n\u001b[1;31mSyntaxError\u001b[0m\u001b[1;31m:\u001b[0m invalid syntax\n"
     ]
    }
   ],
   "source": [
    "print \"___\".join(income)"
   ]
  },
  {
   "cell_type": "code",
   "execution_count": null,
   "id": "2efdc39b",
   "metadata": {},
   "outputs": [],
   "source": [
    "features = ['Ivan', 'Meduim', 500000, 12, True]"
   ]
  },
  {
   "cell_type": "code",
   "execution_count": null,
   "id": "294f1a13",
   "metadata": {},
   "outputs": [],
   "source": [
    "print features[0]"
   ]
  },
  {
   "cell_type": "code",
   "execution_count": null,
   "id": "5678a000",
   "metadata": {},
   "outputs": [],
   "source": [
    "features[0]"
   ]
  },
  {
   "cell_type": "code",
   "execution_count": null,
   "id": "546e7a0b",
   "metadata": {},
   "outputs": [],
   "source": [
    "features[:-1]"
   ]
  },
  {
   "cell_type": "code",
   "execution_count": null,
   "id": "9e2453d7",
   "metadata": {},
   "outputs": [],
   "source": [
    "features[2:4]"
   ]
  },
  {
   "cell_type": "code",
   "execution_count": null,
   "id": "a286c174",
   "metadata": {},
   "outputs": [],
   "source": [
    "features.append('One more element')"
   ]
  },
  {
   "cell_type": "code",
   "execution_count": null,
   "id": "fefffc08",
   "metadata": {},
   "outputs": [],
   "source": [
    "features()"
   ]
  },
  {
   "cell_type": "code",
   "execution_count": null,
   "id": "9c3c238b",
   "metadata": {},
   "outputs": [],
   "source": [
    "features"
   ]
  },
  {
   "cell_type": "code",
   "execution_count": null,
   "id": "a9e85418",
   "metadata": {},
   "outputs": [],
   "source": [
    "del features[-2]"
   ]
  },
  {
   "cell_type": "code",
   "execution_count": null,
   "id": "943a8d36",
   "metadata": {},
   "outputs": [],
   "source": [
    "features"
   ]
  },
  {
   "cell_type": "code",
   "execution_count": null,
   "id": "0399eff9",
   "metadata": {},
   "outputs": [],
   "source": [
    "features_tuple = ('Ivan', 'Meduim', 500000, 12, True)"
   ]
  },
  {
   "cell_type": "code",
   "execution_count": null,
   "id": "2aad10f3",
   "metadata": {},
   "outputs": [],
   "source": [
    "type(features_tuple)"
   ]
  },
  {
   "cell_type": "code",
   "execution_count": null,
   "id": "ad0d3b1c",
   "metadata": {},
   "outputs": [],
   "source": [
    "features_tuple[2:5]"
   ]
  },
  {
   "cell_type": "markdown",
   "id": "d9288432",
   "metadata": {},
   "source": [
    "# Множества и словари"
   ]
  },
  {
   "cell_type": "markdown",
   "id": "5426f6fe",
   "metadata": {},
   "source": [
    "## set"
   ]
  },
  {
   "cell_type": "code",
   "execution_count": null,
   "id": "f7e3cfd7",
   "metadata": {},
   "outputs": [],
   "source": [
    "names = {'Ivan', 'Petr', 'Konstantin'}"
   ]
  },
  {
   "cell_type": "code",
   "execution_count": null,
   "id": "6e7c102f",
   "metadata": {},
   "outputs": [],
   "source": [
    "type(names)"
   ]
  },
  {
   "cell_type": "code",
   "execution_count": null,
   "id": "55d0f994",
   "metadata": {},
   "outputs": [],
   "source": [
    "print 'Ivan' in names"
   ]
  },
  {
   "cell_type": "code",
   "execution_count": null,
   "id": "960bb5b8",
   "metadata": {},
   "outputs": [],
   "source": [
    "names\n"
   ]
  },
  {
   "cell_type": "code",
   "execution_count": null,
   "id": "4e0af401",
   "metadata": {},
   "outputs": [],
   "source": [
    "names{1}"
   ]
  },
  {
   "cell_type": "code",
   "execution_count": null,
   "id": "8326e336",
   "metadata": {},
   "outputs": [],
   "source": [
    "names('Ivan')"
   ]
  },
  {
   "cell_type": "code",
   "execution_count": null,
   "id": "890c7f4d",
   "metadata": {},
   "outputs": [],
   "source": [
    "names.add('Shurik')"
   ]
  },
  {
   "cell_type": "code",
   "execution_count": null,
   "id": "12cdf43c",
   "metadata": {},
   "outputs": [],
   "source": [
    "names"
   ]
  },
  {
   "cell_type": "code",
   "execution_count": null,
   "id": "1aa63e5f",
   "metadata": {},
   "outputs": [],
   "source": [
    "names.remove('Ivan')"
   ]
  },
  {
   "cell_type": "code",
   "execution_count": null,
   "id": "409bd934",
   "metadata": {},
   "outputs": [],
   "source": [
    "names"
   ]
  },
  {
   "cell_type": "code",
   "execution_count": null,
   "id": "cc4d759b",
   "metadata": {},
   "outputs": [],
   "source": [
    "a = range(10000)\n",
    "b = range (10000)\n",
    "b = set(b)"
   ]
  },
  {
   "cell_type": "code",
   "execution_count": null,
   "id": "45c58266",
   "metadata": {},
   "outputs": [],
   "source": [
    "#старый вариант a[:5]\n",
    "#a[-5:]\n",
    "#как надо\n",
    "print(a[:5])\n",
    "print(a[-5:])\n"
   ]
  },
  {
   "cell_type": "code",
   "execution_count": null,
   "id": "03c7a6b1",
   "metadata": {},
   "outputs": [],
   "source": [
    "%%time \n",
    "print (9999 in a)"
   ]
  },
  {
   "cell_type": "code",
   "execution_count": null,
   "id": "59b4401f",
   "metadata": {},
   "outputs": [],
   "source": [
    "%%time \n",
    "print (9999 in b)"
   ]
  },
  {
   "cell_type": "markdown",
   "id": "643461fd",
   "metadata": {},
   "source": [
    "## dict"
   ]
  },
  {
   "cell_type": "code",
   "execution_count": null,
   "id": "eb7eb71a",
   "metadata": {},
   "outputs": [],
   "source": [
    "word_frequencies = dict()\n",
    "word_frequencies['I'] = 1\n",
    "word_frequencies['am'] = 1"
   ]
  },
  {
   "cell_type": "code",
   "execution_count": null,
   "id": "a087863a",
   "metadata": {},
   "outputs": [],
   "source": [
    "word_frequencies['I'] += 1\n",
    "word_frequencies"
   ]
  },
  {
   "cell_type": "code",
   "execution_count": null,
   "id": "c8ee1d45",
   "metadata": {},
   "outputs": [],
   "source": [
    "word_frequencies['I']"
   ]
  },
  {
   "cell_type": "code",
   "execution_count": null,
   "id": "ba69a60d",
   "metadata": {},
   "outputs": [],
   "source": [
    "yet_another_dict = {'abc': 3.4, 5: 7.8, u'123': None}\n",
    "print(yet_another_dict)"
   ]
  },
  {
   "cell_type": "code",
   "execution_count": null,
   "id": "8d0aeceb",
   "metadata": {},
   "outputs": [],
   "source": [
    "yet_another_dict[(1,2,5)] = [4, 5, 7]\n",
    "print(yet_another_dict)"
   ]
  },
  {
   "cell_type": "code",
   "execution_count": null,
   "id": "defa7cd5",
   "metadata": {},
   "outputs": [],
   "source": [
    "yet_another_dict[[1,2,7]] = [4, 5]"
   ]
  },
  {
   "cell_type": "markdown",
   "id": "fa91a882",
   "metadata": {},
   "source": [
    "## Синтаксис питона, основные операторы"
   ]
  },
  {
   "cell_type": "code",
   "execution_count": null,
   "id": "8b294a3f",
   "metadata": {},
   "outputs": [],
   "source": [
    "x = True\n",
    "if x:\n",
    "    print ('OK')\n",
    "    \n",
    "else:\n",
    "    print (\"NOT OK\")"
   ]
  },
  {
   "cell_type": "code",
   "execution_count": null,
   "id": "82cdfd5c",
   "metadata": {},
   "outputs": [],
   "source": [
    "for  i in range(10) :\n",
    "    print (i)"
   ]
  },
  {
   "cell_type": "code",
   "execution_count": null,
   "id": "07290964",
   "metadata": {},
   "outputs": [],
   "source": [
    "print range(2,5)"
   ]
  },
  {
   "cell_type": "code",
   "execution_count": null,
   "id": "b3f7e012",
   "metadata": {},
   "outputs": [],
   "source": [
    "range(2,5)"
   ]
  },
  {
   "cell_type": "code",
   "execution_count": null,
   "id": "0a42c909",
   "metadata": {},
   "outputs": [],
   "source": [
    "for i in [2, 3, 4]:\n",
    "    print (i)"
   ]
  },
  {
   "cell_type": "code",
   "execution_count": null,
   "id": "d0bf3037",
   "metadata": {},
   "outputs": [],
   "source": [
    "type(range(2, 5))"
   ]
  },
  {
   "cell_type": "code",
   "execution_count": null,
   "id": "aad6a039",
   "metadata": {},
   "outputs": [],
   "source": [
    "for i in xrange(2, 5):\n",
    "    print(i)"
   ]
  },
  {
   "cell_type": "code",
   "execution_count": null,
   "id": "8dde5ac6",
   "metadata": {},
   "outputs": [],
   "source": [
    "range(100000)"
   ]
  },
  {
   "cell_type": "code",
   "execution_count": null,
   "id": "a048f3a1",
   "metadata": {},
   "outputs": [],
   "source": [
    "# возеести число в квадрат в последовательности от 0 до 10\n",
    "w = [x ** 2 for x in range(11)]"
   ]
  },
  {
   "cell_type": "code",
   "execution_count": null,
   "id": "1a72702e",
   "metadata": {},
   "outputs": [],
   "source": [
    "w"
   ]
  },
  {
   "cell_type": "code",
   "execution_count": null,
   "id": "6f497a5f",
   "metadata": {},
   "outputs": [],
   "source": [
    "# оставить только четные\n",
    "w = [x ** 2 for x in range(11) if x % 2 == 0 ]"
   ]
  },
  {
   "cell_type": "code",
   "execution_count": null,
   "id": "0ab4f2d2",
   "metadata": {},
   "outputs": [],
   "source": [
    "type(w)"
   ]
  },
  {
   "cell_type": "code",
   "execution_count": null,
   "id": "fb9c5e35",
   "metadata": {},
   "outputs": [],
   "source": [
    "#generator\n",
    "w = (x ** 2 for x in range(11) if x % 2 == 0 )"
   ]
  },
  {
   "cell_type": "code",
   "execution_count": null,
   "id": "e7cce743",
   "metadata": {},
   "outputs": [],
   "source": [
    "type(w)"
   ]
  },
  {
   "cell_type": "code",
   "execution_count": null,
   "id": "0e9f7faa",
   "metadata": {},
   "outputs": [],
   "source": [
    "x = True\n",
    "s = 0\n",
    "while x:\n",
    "    s+=1\n",
    "    if s % 2 == 0:\n",
    "        print (\"Continiue\")\n",
    "        continue\n",
    "    print(s)\n",
    "    if s > 10:\n",
    "        break"
   ]
  },
  {
   "cell_type": "code",
   "execution_count": null,
   "id": "1b2204bf",
   "metadata": {},
   "outputs": [],
   "source": [
    "def myrange(a, b) :\n",
    "    res = []\n",
    "    s = a\n",
    "    while s !=b:\n",
    "        res.append(s)\n",
    "        s += 1\n",
    "        return res"
   ]
  },
  {
   "cell_type": "code",
   "execution_count": null,
   "id": "b2250598",
   "metadata": {},
   "outputs": [],
   "source": [
    "myrange (2, 7)\n",
    "# здесь должна быть последовательность от 2 до 6"
   ]
  },
  {
   "cell_type": "code",
   "execution_count": null,
   "id": "5cf04ad3",
   "metadata": {},
   "outputs": [],
   "source": [
    "print [x ** 2 for x in range(10)]"
   ]
  },
  {
   "cell_type": "code",
   "execution_count": null,
   "id": "5b7e11bc",
   "metadata": {},
   "outputs": [],
   "source": [
    "def sq(x):\n",
    "    return x ** 2\n",
    "print map(sq, range(10))\n",
    "\n",
    "# неверный синтаксис, тут используется питон 2"
   ]
  },
  {
   "cell_type": "code",
   "execution_count": null,
   "id": "e72250a7",
   "metadata": {},
   "outputs": [],
   "source": [
    "print map( lambda x: x**2, range(10))\n",
    "\n",
    "#аналогично, но прелесть в лямбде - функция определяется на ходу"
   ]
  },
  {
   "cell_type": "markdown",
   "id": "262579ed",
   "metadata": {},
   "source": [
    "## Чтение файлов"
   ]
  },
  {
   "cell_type": "code",
   "execution_count": null,
   "id": "15a6fe9d",
   "metadata": {},
   "outputs": [],
   "source": [
    "?open"
   ]
  },
  {
   "cell_type": "code",
   "execution_count": null,
   "id": "7e1c42c1",
   "metadata": {},
   "outputs": [],
   "source": [
    "#открытие файла для чтения с помощью встроенной функции open\n",
    "file_obj = open('example_utf8.txt', 'r')"
   ]
  },
  {
   "cell_type": "code",
   "execution_count": null,
   "id": "4da3333a",
   "metadata": {},
   "outputs": [],
   "source": [
    "type(file_obj)"
   ]
  },
  {
   "cell_type": "code",
   "execution_count": null,
   "id": "a47f1b34",
   "metadata": {},
   "outputs": [],
   "source": [
    "print(file_obj.read())"
   ]
  },
  {
   "cell_type": "code",
   "execution_count": null,
   "id": "47368c86",
   "metadata": {},
   "outputs": [],
   "source": [
    "import codecs"
   ]
  },
  {
   "cell_type": "code",
   "execution_count": null,
   "id": "82f60678",
   "metadata": {},
   "outputs": [],
   "source": [
    "file_obj = codecs.open('example_utf8.txt', 'r', encoding ='utf8')"
   ]
  },
  {
   "cell_type": "code",
   "execution_count": null,
   "id": "422bf0e2",
   "metadata": {},
   "outputs": [],
   "source": [
    "print(file_obj.read())"
   ]
  },
  {
   "cell_type": "code",
   "execution_count": null,
   "id": "239ab402",
   "metadata": {},
   "outputs": [],
   "source": [
    "file_obj = open('example_utf8.txt')\n",
    "print(file_obj.readline())"
   ]
  },
  {
   "cell_type": "code",
   "execution_count": null,
   "id": "0b7f9e24",
   "metadata": {},
   "outputs": [],
   "source": [
    "%%writefile expample1.txt\n",
    "Привет, у меня есть отличная идея\n"
   ]
  },
  {
   "cell_type": "code",
   "execution_count": null,
   "id": "90167b88",
   "metadata": {},
   "outputs": [],
   "source": [
    "myfile = open('expample1.txt')"
   ]
  },
  {
   "cell_type": "code",
   "execution_count": null,
   "id": "67d32ab4",
   "metadata": {},
   "outputs": [],
   "source": [
    "myfile.read()"
   ]
  },
  {
   "cell_type": "code",
   "execution_count": null,
   "id": "6df6b877",
   "metadata": {},
   "outputs": [],
   "source": [
    "myfile.encode('utf-8')"
   ]
  },
  {
   "cell_type": "code",
   "execution_count": null,
   "id": "d10d2047",
   "metadata": {},
   "outputs": [],
   "source": [
    "my_file = codecs.open('expample1.txt', 'r', encoding ='utf8')"
   ]
  },
  {
   "cell_type": "code",
   "execution_count": null,
   "id": "dc969de5",
   "metadata": {},
   "outputs": [],
   "source": [
    "myfile.readline()"
   ]
  },
  {
   "cell_type": "code",
   "execution_count": null,
   "id": "eeaacbe7",
   "metadata": {},
   "outputs": [],
   "source": [
    "for line in myfile:\n",
    "    print(line.strip())"
   ]
  },
  {
   "cell_type": "code",
   "execution_count": null,
   "id": "30a44018",
   "metadata": {},
   "outputs": [],
   "source": [
    "# как работать с файлом как с листом\n",
    "\n",
    "file_obj = open('example_utf8.txt')\n",
    "data_list = list(file_obj)"
   ]
  },
  {
   "cell_type": "code",
   "execution_count": null,
   "id": "18ebb97f",
   "metadata": {},
   "outputs": [],
   "source": [
    "for line in data_list: print (line.strip())"
   ]
  },
  {
   "cell_type": "code",
   "execution_count": null,
   "id": "553b6817",
   "metadata": {},
   "outputs": [],
   "source": [
    "#попытка чтения закрытого файла приводит к ошибке!\n",
    "file_obj = open('example_utf8.txt')\n",
    "file_obj.close()\n",
    "file_obj.read()"
   ]
  },
  {
   "cell_type": "code",
   "execution_count": 170,
   "id": "931445b8",
   "metadata": {},
   "outputs": [],
   "source": [
    "file_obj = open('example_koi_8.txt')"
   ]
  },
  {
   "cell_type": "code",
   "execution_count": 171,
   "id": "be942a29",
   "metadata": {},
   "outputs": [
    {
     "name": "stdout",
     "output_type": "stream",
     "text": [
      "рТЙЧЕФ, НЙТ!\n",
      "ьФП ФЕУФПЧЩК ЖБКМ\n",
      "лПДЙТПЧЛБ koi8-r\n",
      "хТПЛ \"ЮФЕОЙЕ ДБООЩИ Ч python\"\n"
     ]
    }
   ],
   "source": [
    "#вывод на экран файла в кодировке koi8-r\n",
    "print(file_obj.read())"
   ]
  },
  {
   "cell_type": "code",
   "execution_count": 172,
   "id": "53d9b517",
   "metadata": {},
   "outputs": [],
   "source": [
    "#открытие файла для чтения с помощью функции open модуля codecs с указанием кодировки koi8-r\n",
    "file_obj = codecs.open('example_koi_8.txt', 'r', encoding='koi8-r')"
   ]
  },
  {
   "cell_type": "code",
   "execution_count": 173,
   "id": "d40a311b",
   "metadata": {},
   "outputs": [
    {
     "name": "stdout",
     "output_type": "stream",
     "text": [
      "Привет, мир!\n",
      "Это тестовый файл\n",
      "Кодировка koi8-r\n",
      "Урок \"чтение данных в python\"\n"
     ]
    }
   ],
   "source": [
    "print(file_obj.read())"
   ]
  },
  {
   "cell_type": "code",
   "execution_count": 174,
   "id": "c1fd752f",
   "metadata": {},
   "outputs": [],
   "source": [
    "file_obj = open('file_to_write_in.txt', 'w')\n",
    "string = 'string for writing'"
   ]
  },
  {
   "cell_type": "code",
   "execution_count": 175,
   "id": "690b6522",
   "metadata": {},
   "outputs": [
    {
     "ename": "UnsupportedOperation",
     "evalue": "not readable",
     "output_type": "error",
     "traceback": [
      "\u001b[1;31m---------------------------------------------------------------------------\u001b[0m",
      "\u001b[1;31mUnsupportedOperation\u001b[0m                      Traceback (most recent call last)",
      "\u001b[1;32m<ipython-input-175-e7cb95ac8203>\u001b[0m in \u001b[0;36m<module>\u001b[1;34m\u001b[0m\n\u001b[1;32m----> 1\u001b[1;33m \u001b[0mprint\u001b[0m\u001b[1;33m(\u001b[0m\u001b[0mfile_obj\u001b[0m\u001b[1;33m.\u001b[0m\u001b[0mread\u001b[0m\u001b[1;33m(\u001b[0m\u001b[1;33m)\u001b[0m\u001b[1;33m)\u001b[0m\u001b[1;33m\u001b[0m\u001b[1;33m\u001b[0m\u001b[0m\n\u001b[0m",
      "\u001b[1;31mUnsupportedOperation\u001b[0m: not readable"
     ]
    }
   ],
   "source": [
    "print(file_obj.read())"
   ]
  },
  {
   "cell_type": "code",
   "execution_count": 177,
   "id": "6f348594",
   "metadata": {},
   "outputs": [
    {
     "ename": "UnsupportedOperation",
     "evalue": "not readable",
     "output_type": "error",
     "traceback": [
      "\u001b[1;31m---------------------------------------------------------------------------\u001b[0m",
      "\u001b[1;31mUnsupportedOperation\u001b[0m                      Traceback (most recent call last)",
      "\u001b[1;32m<ipython-input-177-15296957654e>\u001b[0m in \u001b[0;36m<module>\u001b[1;34m\u001b[0m\n\u001b[0;32m      1\u001b[0m \u001b[0mfilemy\u001b[0m \u001b[1;33m=\u001b[0m \u001b[0mopen\u001b[0m\u001b[1;33m(\u001b[0m\u001b[1;34m\"expample1.txt\"\u001b[0m\u001b[1;33m,\u001b[0m \u001b[1;34m\"w\"\u001b[0m\u001b[1;33m)\u001b[0m\u001b[1;33m\u001b[0m\u001b[1;33m\u001b[0m\u001b[0m\n\u001b[0;32m      2\u001b[0m \u001b[0mfilemy\u001b[0m\u001b[1;33m.\u001b[0m\u001b[0mwrite\u001b[0m\u001b[1;33m(\u001b[0m\u001b[1;34m'Hello World'\u001b[0m\u001b[1;33m)\u001b[0m\u001b[1;33m\u001b[0m\u001b[1;33m\u001b[0m\u001b[0m\n\u001b[1;32m----> 3\u001b[1;33m \u001b[0mprint\u001b[0m\u001b[1;33m(\u001b[0m\u001b[0mfilemy\u001b[0m\u001b[1;33m.\u001b[0m\u001b[0mread\u001b[0m\u001b[1;33m(\u001b[0m\u001b[1;33m)\u001b[0m\u001b[1;33m)\u001b[0m\u001b[1;33m\u001b[0m\u001b[1;33m\u001b[0m\u001b[0m\n\u001b[0m\u001b[0;32m      4\u001b[0m \u001b[1;33m\u001b[0m\u001b[0m\n",
      "\u001b[1;31mUnsupportedOperation\u001b[0m: not readable"
     ]
    }
   ],
   "source": [
    "filemy = open(\"expample1.txt\", \"w\")\n",
    "filemy.write('Hello World')\n",
    "print(filemy.read())\n",
    "\n"
   ]
  },
  {
   "cell_type": "code",
   "execution_count": 178,
   "id": "92b9f49e",
   "metadata": {},
   "outputs": [
    {
     "ename": "FileNotFoundError",
     "evalue": "[Errno 2] No such file or directory: 'pytry.txt'",
     "output_type": "error",
     "traceback": [
      "\u001b[1;31m---------------------------------------------------------------------------\u001b[0m",
      "\u001b[1;31mFileNotFoundError\u001b[0m                         Traceback (most recent call last)",
      "\u001b[1;32m<ipython-input-178-a8d9ae701ff5>\u001b[0m in \u001b[0;36m<module>\u001b[1;34m\u001b[0m\n\u001b[1;32m----> 1\u001b[1;33m \u001b[0mmyfile\u001b[0m \u001b[1;33m=\u001b[0m \u001b[0mopen\u001b[0m\u001b[1;33m(\u001b[0m\u001b[1;34m'pytry.txt'\u001b[0m\u001b[1;33m)\u001b[0m\u001b[1;33m\u001b[0m\u001b[1;33m\u001b[0m\u001b[0m\n\u001b[0m",
      "\u001b[1;31mFileNotFoundError\u001b[0m: [Errno 2] No such file or directory: 'pytry.txt'"
     ]
    }
   ],
   "source": [
    "myfile = open('pytry.txt')"
   ]
  },
  {
   "cell_type": "code",
   "execution_count": 179,
   "id": "27e12915",
   "metadata": {},
   "outputs": [
    {
     "name": "stdout",
     "output_type": "stream",
     "text": [
      "Writing pytry.txt\n"
     ]
    }
   ],
   "source": [
    "%%writefile pytry.txt\n",
    "Hello this is a text file"
   ]
  },
  {
   "cell_type": "code",
   "execution_count": 180,
   "id": "e70c2f93",
   "metadata": {},
   "outputs": [],
   "source": [
    "myfile = open('pytry.txt')"
   ]
  },
  {
   "cell_type": "code",
   "execution_count": 181,
   "id": "d36326a1",
   "metadata": {},
   "outputs": [
    {
     "data": {
      "text/plain": [
       "<_io.TextIOWrapper name='pytry.txt' mode='r' encoding='cp1251'>"
      ]
     },
     "execution_count": 181,
     "metadata": {},
     "output_type": "execute_result"
    }
   ],
   "source": [
    "myfile"
   ]
  },
  {
   "cell_type": "code",
   "execution_count": 182,
   "id": "bebe597a",
   "metadata": {},
   "outputs": [
    {
     "data": {
      "text/plain": [
       "'Hello this is a text file\\n'"
      ]
     },
     "execution_count": 182,
     "metadata": {},
     "output_type": "execute_result"
    }
   ],
   "source": [
    "myfile.read()"
   ]
  },
  {
   "cell_type": "code",
   "execution_count": 183,
   "id": "142d0bfa",
   "metadata": {},
   "outputs": [],
   "source": [
    "contents = myfile.read()"
   ]
  },
  {
   "cell_type": "code",
   "execution_count": 207,
   "id": "425a23cb",
   "metadata": {},
   "outputs": [],
   "source": [
    "with open('pytry.txt', mode='w') as f:\n",
    "    f.write(\"Hi New line\")"
   ]
  },
  {
   "cell_type": "code",
   "execution_count": 208,
   "id": "23bd16ca",
   "metadata": {},
   "outputs": [
    {
     "name": "stdout",
     "output_type": "stream",
     "text": [
      "Hi New line\n"
     ]
    }
   ],
   "source": [
    "with open('pytry.txt', mode ='r') as f:\n",
    "    print(f.read())"
   ]
  },
  {
   "cell_type": "code",
   "execution_count": 187,
   "id": "d7aba0ab",
   "metadata": {},
   "outputs": [
    {
     "name": "stdout",
     "output_type": "stream",
     "text": [
      "Hi world!\n"
     ]
    }
   ],
   "source": [
    "f = open('pytry.txt')\n",
    "print(f.read())"
   ]
  },
  {
   "cell_type": "code",
   "execution_count": 212,
   "id": "bcde507a",
   "metadata": {},
   "outputs": [
    {
     "name": "stdout",
     "output_type": "stream",
     "text": [
      "string for writing\n"
     ]
    }
   ],
   "source": [
    "#запись данных\n",
    "\n",
    "file_obj = open('pytry.txt', mode='w')\n",
    "file_obj.write('string for writing')\n",
    "file_obj = open('pytry.txt', mode ='r')\n",
    "\n",
    "print(file_obj.read())\n"
   ]
  },
  {
   "cell_type": "code",
   "execution_count": 219,
   "id": "8c7167aa",
   "metadata": {},
   "outputs": [
    {
     "name": "stdout",
     "output_type": "stream",
     "text": [
      "string for writing3 string for writing3 string for writing3 string for writing3 string for writing\n",
      "3 string for writing/n3 string for writing\n",
      "\n"
     ]
    }
   ],
   "source": [
    "file_obj = open('pytry.txt', mode='a')\n",
    "file_obj.write('3 string for writing\\n')\n",
    "file_obj = open('pytry.txt', mode ='r')\n",
    "print(file_obj.read())"
   ]
  },
  {
   "cell_type": "code",
   "execution_count": 228,
   "id": "52e14cdf",
   "metadata": {},
   "outputs": [
    {
     "name": "stdout",
     "output_type": "stream",
     "text": [
      "string for writing3 string for writing3 string for writing3 string for writing3 string for writing\n",
      "3 string for writing/n3 string for writing\n"
     ]
    }
   ],
   "source": [
    "#аналог предыдущей команды для пользователей windows\n",
    "!more pytry.txt"
   ]
  },
  {
   "cell_type": "code",
   "execution_count": 204,
   "id": "78da679f",
   "metadata": {},
   "outputs": [
    {
     "ename": "UnsupportedOperation",
     "evalue": "not readable",
     "output_type": "error",
     "traceback": [
      "\u001b[1;31m---------------------------------------------------------------------------\u001b[0m",
      "\u001b[1;31mUnsupportedOperation\u001b[0m                      Traceback (most recent call last)",
      "\u001b[1;32m<ipython-input-204-8a634d5860b1>\u001b[0m in \u001b[0;36m<module>\u001b[1;34m\u001b[0m\n\u001b[0;32m      1\u001b[0m \u001b[1;32mwith\u001b[0m \u001b[0mopen\u001b[0m\u001b[1;33m(\u001b[0m\u001b[1;34m'pytry.txt'\u001b[0m\u001b[1;33m,\u001b[0m \u001b[0mmode\u001b[0m\u001b[1;33m=\u001b[0m\u001b[1;34m'w'\u001b[0m\u001b[1;33m)\u001b[0m \u001b[1;32mas\u001b[0m \u001b[0mf\u001b[0m\u001b[1;33m:\u001b[0m\u001b[1;33m\u001b[0m\u001b[1;33m\u001b[0m\u001b[0m\n\u001b[0;32m      2\u001b[0m     \u001b[0mf\u001b[0m\u001b[1;33m.\u001b[0m\u001b[0mwrite\u001b[0m\u001b[1;33m(\u001b[0m\u001b[1;34m\"строка для записывания\"\u001b[0m\u001b[1;33m)\u001b[0m\u001b[1;33m\u001b[0m\u001b[1;33m\u001b[0m\u001b[0m\n\u001b[1;32m----> 3\u001b[1;33m     \u001b[0mprint\u001b[0m\u001b[1;33m(\u001b[0m\u001b[0mf\u001b[0m\u001b[1;33m.\u001b[0m\u001b[0mread\u001b[0m\u001b[1;33m(\u001b[0m\u001b[1;33m)\u001b[0m\u001b[1;33m)\u001b[0m\u001b[1;33m\u001b[0m\u001b[1;33m\u001b[0m\u001b[0m\n\u001b[0m",
      "\u001b[1;31mUnsupportedOperation\u001b[0m: not readable"
     ]
    }
   ],
   "source": [
    "with open('pytry.txt', mode='w') as f:\n",
    "    f.write(\"строка для записывания\")\n",
    "    print(f.read())"
   ]
  },
  {
   "cell_type": "code",
   "execution_count": 224,
   "id": "867f3d2c",
   "metadata": {},
   "outputs": [],
   "source": [
    "#создание списка чисел от 1 до 10\n",
    "digits = range(1,11)"
   ]
  },
  {
   "cell_type": "code",
   "execution_count": 225,
   "id": "6617f17b",
   "metadata": {},
   "outputs": [
    {
     "data": {
      "text/plain": [
       "range(1, 10)"
      ]
     },
     "execution_count": 225,
     "metadata": {},
     "output_type": "execute_result"
    }
   ],
   "source": [
    "digits"
   ]
  },
  {
   "cell_type": "code",
   "execution_count": 226,
   "id": "306cdf9f",
   "metadata": {},
   "outputs": [],
   "source": [
    "#чтобы записать данные из массива построчно\n",
    "with open('second_file.txt', mode = 'w') as file_obj:\n",
    "    file_obj.writelines(digit + '\\n' for digit in map(str, digits)) #здесь мы использовали добавление знака переноса строки, а также функцию map для перевода в строку в файле"
   ]
  },
  {
   "cell_type": "code",
   "execution_count": 227,
   "id": "6120e0fa",
   "metadata": {},
   "outputs": [
    {
     "name": "stdout",
     "output_type": "stream",
     "text": [
      "1\n",
      "2\n",
      "3\n",
      "4\n",
      "5\n",
      "6\n",
      "7\n",
      "8\n",
      "9\n",
      "\n"
     ]
    }
   ],
   "source": [
    "file_obj = open('second_file.txt', mode ='r')\n",
    "print(file_obj.read())"
   ]
  },
  {
   "cell_type": "code",
   "execution_count": 233,
   "id": "7a0e0a54",
   "metadata": {},
   "outputs": [],
   "source": [
    "#запись в файл списка строк с помощью функции writelines\n",
    "file_obj = open('second_file_for_write_in.txt', 'w')\n",
    "file_obj.writelines(digit + '\\n' for digit in map(str, digits))\n",
    "file_obj.close()"
   ]
  },
  {
   "cell_type": "code",
   "execution_count": 234,
   "id": "cf9160e3",
   "metadata": {},
   "outputs": [
    {
     "name": "stdout",
     "output_type": "stream",
     "text": [
      "1\n",
      "2\n",
      "3\n",
      "4\n",
      "5\n",
      "6\n",
      "7\n",
      "8\n",
      "9\n",
      "\n"
     ]
    }
   ],
   "source": [
    "#вывод на экран содержимого файла\n",
    "with open('second_file_for_write_in.txt', 'r') as file_obj:\n",
    "    print(file_obj.read())"
   ]
  },
  {
   "cell_type": "code",
   "execution_count": 229,
   "id": "0d4fb6ce",
   "metadata": {},
   "outputs": [],
   "source": [
    "#запись строки в файл, открытый в режиме 'w'\n",
    "file_obj = open('file_to_write_in.txt', 'w')\n",
    "second_string = 'вторая строка для записи в файл\\n'\n",
    "file_obj.write(second_string)\n",
    "file_obj.close()"
   ]
  },
  {
   "cell_type": "code",
   "execution_count": 230,
   "id": "d99ee1f2",
   "metadata": {},
   "outputs": [
    {
     "name": "stdout",
     "output_type": "stream",
     "text": [
      "вторая строка для записи в файл\n"
     ]
    }
   ],
   "source": [
    "!more file_to_write_in.txt"
   ]
  },
  {
   "cell_type": "code",
   "execution_count": 231,
   "id": "777aecef",
   "metadata": {},
   "outputs": [],
   "source": [
    "#запись строки в файл, открытый в режиме 'a'\n",
    "file_obj = open('file_to_write_in.txt', 'a')\n",
    "second_string = 'третья строка для записи в файл\\n'\n",
    "file_obj.write(second_string)\n",
    "file_obj.close()"
   ]
  },
  {
   "cell_type": "code",
   "execution_count": 232,
   "id": "a0dc03fc",
   "metadata": {},
   "outputs": [
    {
     "name": "stdout",
     "output_type": "stream",
     "text": [
      "вторая строка для записи в файл\n",
      "третья строка для записи в файл\n"
     ]
    }
   ],
   "source": [
    "!more file_to_write_in.txt"
   ]
  },
  {
   "cell_type": "code",
   "execution_count": 239,
   "id": "c2014612",
   "metadata": {},
   "outputs": [
    {
     "data": {
      "text/plain": [
       "'0 1 0 1'"
      ]
     },
     "execution_count": 239,
     "metadata": {},
     "output_type": "execute_result"
    }
   ],
   "source": [
    "\" \".join([str(x ** 2 % 2) for x in range(4)])"
   ]
  },
  {
   "cell_type": "code",
   "execution_count": null,
   "id": "e8de5596",
   "metadata": {},
   "outputs": [],
   "source": [
    "'_'.join(('Hello, world!'.split(' ')))"
   ]
  }
 ],
 "metadata": {
  "kernelspec": {
   "display_name": "Python 3",
   "language": "python",
   "name": "python3"
  },
  "language_info": {
   "codemirror_mode": {
    "name": "ipython",
    "version": 3
   },
   "file_extension": ".py",
   "mimetype": "text/x-python",
   "name": "python",
   "nbconvert_exporter": "python",
   "pygments_lexer": "ipython3",
   "version": "3.8.8"
  }
 },
 "nbformat": 4,
 "nbformat_minor": 5
}
