{
 "cells": [
  {
   "cell_type": "markdown",
   "id": "ea07d1ff",
   "metadata": {},
   "source": [
    "This is main metrics, which is my life about. I've defined parameters, which is most important elements in my story.\n",
    "So I put a mark for each parameter and took average.\n",
    "I want to practice Python and that's why I created this file.\n",
    "In the end I count of mark of life satisfaction."
   ]
  },
  {
   "cell_type": "code",
   "execution_count": 1,
   "id": "2e30ebfb",
   "metadata": {},
   "outputs": [],
   "source": [
    "#here is components and marks I've set\n",
    "\n",
    "art = 1\n",
    "improving = 9\n",
    "projects = 7\n",
    "next_level = 10\n",
    "nature = 10\n",
    "heart = 9\n",
    "curiosity = 3\n",
    "creating = 7\n",
    "purposefullness = 10\n",
    "inspiration = 8"
   ]
  },
  {
   "cell_type": "code",
   "execution_count": 3,
   "id": "bf169200",
   "metadata": {},
   "outputs": [],
   "source": [
    "#here is import of lib\n",
    "import numpy as np"
   ]
  },
  {
   "cell_type": "code",
   "execution_count": 4,
   "id": "5ec50034",
   "metadata": {},
   "outputs": [
    {
     "data": {
      "text/plain": [
       "7.4"
      ]
     },
     "execution_count": 4,
     "metadata": {},
     "output_type": "execute_result"
    }
   ],
   "source": [
    "#here is function for average of marks\n",
    "a = [art, improving, projects, next_level, nature, heart, curiosity, creating, purposefullness, inspiration]\n",
    "np.average(a)"
   ]
  },
  {
   "cell_type": "markdown",
   "id": "65295aa7",
   "metadata": {},
   "source": [
    "My satisfation from life is 7.4 \n",
    "Not bad, but there is a place for more :)"
   ]
  },
  {
   "cell_type": "code",
   "execution_count": null,
   "id": "e7e6480c",
   "metadata": {},
   "outputs": [],
   "source": []
  }
 ],
 "metadata": {
  "kernelspec": {
   "display_name": "Python 3",
   "language": "python",
   "name": "python3"
  },
  "language_info": {
   "codemirror_mode": {
    "name": "ipython",
    "version": 3
   },
   "file_extension": ".py",
   "mimetype": "text/x-python",
   "name": "python",
   "nbconvert_exporter": "python",
   "pygments_lexer": "ipython3",
   "version": "3.8.8"
  }
 },
 "nbformat": 4,
 "nbformat_minor": 5
}
